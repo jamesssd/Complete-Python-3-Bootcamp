{
 "cells": [
  {
   "cell_type": "markdown",
   "metadata": {},
   "source": [
    "\n",
    "## Data Types\n",
    "Name - Type - Description\n",
    "- Integers - int - solid numbers \n",
    "- Floating point - float - decimal numbers\n",
    "Strings - str - characters\n",
    "List - list - ordered instance of object\n",
    "Dictionaries - dict - unordered value key pairs (\"name\": \"James\")\n",
    "Tuples - tup - ordered immutable sequence of objects: (10, \"Hello\", 200.3)\n",
    "Sets - set - unordered collection of unique objects - {\"a\", \"b\"}\n",
    "Booleans - bool - true or false"
   ]
  },
  {
   "cell_type": "markdown",
   "metadata": {},
   "source": [
    "## Numbers\n",
    "\n",
    "Mod Operator \n",
    "% takes the remainder of the division \n",
    "ie. \n",
    "50 % 5 = 0 <- Even\n",
    "7 % 4 = 3 <- Odd\n",
    "\n",
    "Power\n",
    "2 ** 3 = 8\n",
    "\n",
    "**Python automatically does order of operation**"
   ]
  },
  {
   "cell_type": "markdown",
   "metadata": {},
   "source": [
    "## Rules for Variable Names\n",
    "- Names cannot start with a number\n",
    "- No spaces in name, must use underscore\n",
    "- No names like list and str\n",
    "- keep everything lowercase except for global variable, must use all capitalize for global var\n"
   ]
  },
  {
   "cell_type": "markdown",
   "metadata": {},
   "source": [
    "## Indexing\n",
    "- In Python, to figure out what the is the last letter, regardless of the length of the string, you must use [-1]\n",
    "\n",
    "## Slicing\n",
    "- Slicing allows the user to grab a subsection of multiple characters [start:stop:step]\n",
    "    - Start is a numerical index for the slice start\n",
    "    - Stop is the index you will go up to (but not include)\n",
    "    - Step is the size of the \"jump\" you take ie. [::2] 2 shows the step size of two \n",
    "        ie\n",
    "        mystring = abcdefg\n",
    "        mystring[::2]\n",
    "        aceg\n",
    "        \n",
    "\n",
    "***to use a single quote on a string, you must use the double quotes in the string ***\n",
    "**\" I'm going for a run \" ***\n",
    "\n",
    "### Escape Characters\n",
    "- \\n is a new line\n",
    "    - to line the world with the first world, you must do this print(\"hello \\nworld) \n",
    "- \\t is to tab over \n",
    "- len allows the user to find the length of the string; this will include the white space as well"
   ]
  },
  {
   "cell_type": "markdown",
   "metadata": {},
   "source": [
    "## String Properties and Methods\n",
    "\n",
    "### Immunitability\n",
    "- Strings are immune to changes\n",
    "- To reassign, you must create a new string using concatination \n",
    "ie"
   ]
  },
  {
   "cell_type": "code",
   "execution_count": 15,
   "metadata": {},
   "outputs": [
    {
     "data": {
      "text/plain": [
       "'JJJJJJJJJJ'"
      ]
     },
     "execution_count": 15,
     "metadata": {},
     "output_type": "execute_result"
    }
   ],
   "source": [
    "name = 'Sam'\n",
    "\n",
    "last_letters = name[1:]\n",
    "\n",
    "'P' + last_letters\n",
    "\n",
    "# To multiple letters\n",
    "letter = \"J\"\n",
    "\n",
    "letter * 10"
   ]
  },
  {
   "cell_type": "markdown",
   "metadata": {},
   "source": [
    "- To see the properties, you must do assign string to a variable and add \".\" and tab to see the properties of string\n",
    "\n",
    "- split() method allows you to split the string base on the white space. \n",
    "    - it also allows you to split the string base on a letter \n",
    "    ie:\n"
   ]
  },
  {
   "cell_type": "code",
   "execution_count": 16,
   "metadata": {},
   "outputs": [
    {
     "data": {
      "text/plain": [
       "['H', ' th', 's ', 's a str', 'ng']"
      ]
     },
     "execution_count": 16,
     "metadata": {},
     "output_type": "execute_result"
    }
   ],
   "source": [
    "x = 'Hi this is a string'\n",
    "x.split('i')\n"
   ]
  },
  {
   "cell_type": "markdown",
   "metadata": {},
   "source": [
    ".format() : A good way to format objects into your strings for print statements is with the string .format() method. The syntax is:\n",
    "'String here {} then also {}'.format('something1', 'something2')\n",
    "\n",
    "ie.\n",
    "print('This is a string{}'.format('INSERTED'))\n",
    "\n",
    "OUTPUT:\n",
    "This is a string INSERT\n",
    "\n",
    "ie.\n",
    "print(\"The {} {} {}\".format('fox', 'brown', 'quick'))\n",
    "\n",
    "OUTPUT:\n",
    "THe fox brown quick\n",
    "\n",
    "**You can also add numbers in the curly braces to move around the words base on the indexs**\n",
    "ie.\n",
    "print(\"The {2} {1} {0}\".format('fox', 'brown', 'quick'))\n",
    "\n",
    "OUTPUT:\n",
    "THe quick brown fox\n",
    "\n",
    "**You can also assign key words in the string**\n",
    "ie.\n",
    "print(\"The {q} {b} {f}\".format(f='fox', b='brown', q='quick'))\n",
    "\n",
    "OUTPUT:\n",
    "THe quick brown fox\n",
    "\n",
    "- Float Formatting with .format()\n",
    "**{value:width.precsision f}**\n",
    "    - precision is how many decimals you want in the result"
   ]
  },
  {
   "cell_type": "code",
   "execution_count": 17,
   "metadata": {},
   "outputs": [
    {
     "name": "stdout",
     "output_type": "stream",
     "text": [
      "The result was 0.1287001287001287\n",
      "The result was 0.129\n"
     ]
    }
   ],
   "source": [
    "#ie. \n",
    "result = 100/777\n",
    "\n",
    "print (\"The result was {r}\".format(r=result))\n",
    "\n",
    "# You can also add precision of the result\n",
    "#ie\n",
    "result = 100/777\n",
    "\n",
    "#1 is the width value, shows you have long or how wide the string number you want it to be\n",
    "print (\"The result was {r:1.3f}\".format(r=result))"
   ]
  },
  {
   "cell_type": "markdown",
   "metadata": {},
   "source": [
    "f-strings: allows the user to skip the .format result and add it directly to the string"
   ]
  },
  {
   "cell_type": "code",
   "execution_count": 18,
   "metadata": {},
   "outputs": [
    {
     "name": "stdout",
     "output_type": "stream",
     "text": [
      "Hello, his name is Jose\n",
      "Sam is 3 years old.\n"
     ]
    }
   ],
   "source": [
    "#ie\n",
    "#add the f directly on the string to add the variable in the string\n",
    "\n",
    "name = \"Jose\"\n",
    "\n",
    "print(f\"Hello, his name is {name}\")\n",
    "\n",
    "# allows the user to add multiple variables directly\n",
    "name = \"Sam\"\n",
    "age = 3\n",
    "\n",
    "print(f\"{name} is {age} years old.\")"
   ]
  },
  {
   "cell_type": "markdown",
   "metadata": {},
   "source": [
    "## Lists\n",
    "- Ordered Seqyences that can hold a variety of object types/\n",
    "- [] <- to use list\n",
    "- List supports indexing and slicing, it can also be nested and also have a variety of useful methods that can be called off of them\n",
    "    - appened()\n",
    "    - pop()\n",
    "    - sort()\n",
    "        **NoneType is a non object in python**\n",
    "    - reverse()\n",
    "- When adding two list, you must create a new variable to hold the new list. \n"
   ]
  },
  {
   "cell_type": "code",
   "execution_count": 19,
   "metadata": {},
   "outputs": [
    {
     "name": "stdout",
     "output_type": "stream",
     "text": [
      "None\n"
     ]
    }
   ],
   "source": [
    "# sort example\n",
    "num_list = [1,3,4,6,2]\n",
    "\n",
    "new_num_list = num_list.sort()\n",
    "\n",
    "print(new_num_list)"
   ]
  },
  {
   "cell_type": "markdown",
   "metadata": {},
   "source": [
    "## Dictionaries\n",
    "\n",
    "- unordered mapping for storing objects. Dictionaries only use key-value pairing\n",
    "- use curly braces {} and colons : to signify the keys and their asssociated values\n",
    "- cannot be sorted\n",
    "- you can put a dictonary inside a dictionary"
   ]
  },
  {
   "cell_type": "code",
   "execution_count": 20,
   "metadata": {},
   "outputs": [
    {
     "data": {
      "text/plain": [
       "100"
      ]
     },
     "execution_count": 20,
     "metadata": {},
     "output_type": "execute_result"
    }
   ],
   "source": [
    "#ie \n",
    "my_dict = {'key1': 'value1', 'key2': 'value2'}\n",
    "\n",
    "my_dict['key1']\n",
    "\n",
    "d = {'k1':123, 'k2':[0,1,2,3], 'k3':{'insideKey':100}}\n",
    "\n",
    "d['k3']\n",
    "\n",
    "#########\n",
    "d['k3']['insideKey']\n"
   ]
  },
  {
   "cell_type": "code",
   "execution_count": null,
   "metadata": {},
   "outputs": [],
   "source": []
  }
 ],
 "metadata": {
  "interpreter": {
   "hash": "9eb43ff710ae0d372450a31ee25c283051362105477385111e356d72e05d5497"
  },
  "kernelspec": {
   "display_name": "Python 3.9.7 64-bit ('base': conda)",
   "language": "python",
   "name": "python3"
  },
  "language_info": {
   "codemirror_mode": {
    "name": "ipython",
    "version": 3
   },
   "file_extension": ".py",
   "mimetype": "text/x-python",
   "name": "python",
   "nbconvert_exporter": "python",
   "pygments_lexer": "ipython3",
   "version": "3.9.7"
  },
  "orig_nbformat": 4
 },
 "nbformat": 4,
 "nbformat_minor": 2
}
