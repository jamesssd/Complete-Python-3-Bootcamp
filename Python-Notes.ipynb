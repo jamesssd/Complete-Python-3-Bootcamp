{
 "cells": [
  {
   "cell_type": "markdown",
   "metadata": {},
   "source": [
    "\n",
    "## Data Types\n",
    "Name - Type - Description\n",
    "- Integers - int - solid numbers \n",
    "- Floating point - float - decimal numbers\n",
    "Strings - str - characters\n",
    "List - list - ordered instance of object\n",
    "Dictionaries - dict - unordered value key pairs (\"name\": \"James\")\n",
    "Tuples - tup - ordered immutable sequence of objects: (10, \"Hello\", 200.3)\n",
    "Sets - set - unordered collection of unique objects - {\"a\", \"b\"}\n",
    "Booleans - bool - true or false"
   ]
  },
  {
   "cell_type": "markdown",
   "metadata": {},
   "source": [
    "## Numbers\n",
    "\n",
    "Mod Operator \n",
    "% takes the remainder of the division \n",
    "ie. \n",
    "50 % 5 = 0 <- Even\n",
    "7 % 4 = 3 <- Odd\n",
    "\n",
    "Power\n",
    "2 ** 3 = 8\n",
    "\n",
    "**Python automatically does order of operation**"
   ]
  },
  {
   "cell_type": "markdown",
   "metadata": {},
   "source": [
    "## Rules for Variable Names\n",
    "- Names cannot start with a number\n",
    "- No spaces in name, must use underscore\n",
    "- No names like list and str\n",
    "- keep everything lowercase except for global variable, must use all capitalize for global var\n"
   ]
  },
  {
   "cell_type": "code",
   "execution_count": null,
   "metadata": {},
   "outputs": [],
   "source": []
  },
  {
   "cell_type": "markdown",
   "metadata": {},
   "source": [
    "## Indexing\n",
    "- In Python, to figure out what the is the last letter, regardless of the length of the string, you must use [-1]\n",
    "\n",
    "## Slicing\n",
    "- Slicing allows the user to grab a subsection of multiple characters [start:stop:s tep]\n",
    "    - Start is a numerical index for the slice start\n",
    "    - Stop is the index you will go up to (but not include)\n",
    "    - Step is the size of the \"jump\" you take\n",
    "\n",
    "***to use a single quote on a string, you must use the double quotes in the string ***\n",
    "**\" I'm going for a run \" ***\n",
    "\n",
    "### Escape Characters\n",
    "- \\n is a new line\n",
    "    - to line the world with the first world, you must do this print(\"hello \\nworld) \n",
    "- \\t is to tab over \n",
    "- len allows the user to find the length of the string; this will include the white space as well"
   ]
  }
 ],
 "metadata": {
  "language_info": {
   "name": "python"
  },
  "orig_nbformat": 4
 },
 "nbformat": 4,
 "nbformat_minor": 2
}
